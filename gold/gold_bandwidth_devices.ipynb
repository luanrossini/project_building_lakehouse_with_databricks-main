{
 "cells": [
  {
   "cell_type": "markdown",
   "metadata": {},
   "source": [
    "# Creating the table \"bandwidth_devices\" on layer gold"
   ]
  },
  {
   "cell_type": "code",
   "execution_count": null,
   "metadata": {
    "vscode": {
     "languageId": "sql"
    }
   },
   "outputs": [],
   "source": [
    "%sql\n",
    "\n",
    "-- What is the bandwidth between devices?\n",
    "\n",
    "CREATE OR REPLACE TABLE gold.bandwidth_devices\n",
    "LOCATION 'dbfs:/FileStore/gold/bandwidth_devices'\n",
    "\n",
    "SELECT source,\n",
    "       SUM(Velocity) AS sum_of_bandwidth_devices, \n",
    "       current_timestamp AS data_actual\n",
    "FROM silver.consolidated_connection\n",
    "GROUP BY source"
   ]
  }
 ],
 "metadata": {
  "language_info": {
   "name": "python"
  }
 },
 "nbformat": 4,
 "nbformat_minor": 2
}
