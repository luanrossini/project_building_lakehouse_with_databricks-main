{
 "cells": [
  {
   "cell_type": "markdown",
   "metadata": {},
   "source": [
    "# Creating the table \"broadband_fee\" on layer gold"
   ]
  },
  {
   "cell_type": "code",
   "execution_count": null,
   "metadata": {
    "vscode": {
     "languageId": "sql"
    }
   },
   "outputs": [],
   "source": [
    "%sql\n",
    "\n",
    "CREATE OR REPLACE TABLE gold.broadband_fee\n",
    "LOCATION 'dbfs:/FileStore/gold/broadband_fee'\n",
    "\n",
    "-- What is the Bandwidth Rate in real time usage?\n",
    "\n",
    "SELECT \n",
    "  SUM(Velocity) AS sum_of_broadband\n",
    "FROM silver.consolidated_connection\n",
    "WHERE \n",
    "  Time Connection >= (CURRENT_TIMESTAMP - INTERVAL '80' MINUTE)\n",
    "  and status ='Connected'\n",
    "GROUP BY all"
   ]
  }
 ],
 "metadata": {
  "language_info": {
   "name": "python"
  }
 },
 "nbformat": 4,
 "nbformat_minor": 2
}
