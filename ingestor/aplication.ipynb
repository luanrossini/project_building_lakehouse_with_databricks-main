{
 "cells": [
  {
   "cell_type": "markdown",
   "metadata": {},
   "source": [
    "# Libs"
   ]
  },
  {
   "cell_type": "code",
   "execution_count": null,
   "metadata": {},
   "outputs": [],
   "source": [
    "# Instaling the Lib for generation data fakes.\n",
    "# !pip install Faker\n",
    "\n",
    "# Necessary libs for this notebook\n",
    "from faker import Faker\n",
    "import random\n",
    "from pyspark.dbutils import DBUtils\n",
    "from faker.providers import internet\n",
    "from datetime import datetime\n",
    "import pandas as pd\n",
    "import os"
   ]
  },
  {
   "cell_type": "markdown",
   "metadata": {},
   "source": [
    "# Functions"
   ]
  },
  {
   "cell_type": "code",
   "execution_count": null,
   "metadata": {},
   "outputs": [],
   "source": [
    "def func_rename(local, new_local):\n",
    "\n",
    "    from datetime import datetime\n",
    "\n",
    "    for file_name in dbutils.fs.ls(local):\n",
    "        file_name = file_name[0] # just the name\n",
    "        if file_name[-8:] == 'parquet': #if the final name end with \".parquet\"\n",
    "        DBUtils.fs.cp(file_name, new_local) # Move the parquet with another name from other place\n",
    "        DBUtils.fs.rm(local, True) # Delete the folder\n",
    "    return print(f'File in: {new_local}') "
   ]
  },
  {
   "cell_type": "code",
   "execution_count": null,
   "metadata": {},
   "outputs": [],
   "source": [
    "# Generation data\n",
    "\n",
    "fake = Faker()\n",
    "fake.add_provider(internet)\n",
    "\n",
    "def data_generaton(connection_quantity,device,status):\n",
    "    # Creating a empity list\n",
    "    fake_records = []\n",
    "    connection_velocity = [1,2,3,4,5,10,20,25,40,50,100,500,1000]\n",
    "\n",
    "# Generation fake data list\n",
    "    for _ in range(connection_quantity):\n",
    "        new_record = {\n",
    "            'Name': fake.name(),\n",
    "            'Address': fake.address(),\n",
    "            'Ip': fake.ipv4_private(),\n",
    "            'Time Connection': datetime.now(),\n",
    "            'Device': device,\n",
    "            'Connection Velocity': random.choice(connection_velocity),\n",
    "            'Status': status\n",
    "            }\n",
    "        fake_records.append(new_record)\n",
    "\n",
    "# Creating a dataframe from generated data\n",
    "df = pd.DataFrame.from_records(fake_records)\n",
    "\n",
    "# Converting the pandas dataframe in spark dataframe\n",
    "spark_df = spark.createDataFrame(df)\n",
    "\n",
    "# Save on landing_zone\n",
    "try:\n",
    "    Local = f\"dbfs:/FileStore/landing_zone/{device}/{status}/{status}_{datetime.now()}\"\n",
    "    spark_df.coalesce(1).write.format(\"parquet\").mode(\"overwrite\").save(Local)\n",
    "    new_local = f\"dbfs:/FileStore/landing_zone/{device}/{status}/{device}/{device}_{datetime.now()}.parquet\"\n",
    "\n",
    "    func_rename(Local,new_local)\n",
    "\n",
    "    return print(f'Sucessfully generated = {connection_quantity} connections of {device} | Status: {status} | Local File: {Local}')\n",
    "\n",
    "except:\n",
    "    return print('Error! Function def_generation() is not deffined')"
   ]
  },
  {
   "cell_type": "code",
   "execution_count": null,
   "metadata": {},
   "outputs": [],
   "source": [
    "def clean_dbfs(argument):\n",
    "    switch_case = {\n",
    "       'landing_zone': lambda: delete_directory(dbutils, \"dbfs:/FileStore/landing_zone\")\n",
    "    }\n",
    "    switch_case.get(argument, lambda: print('Not found!'))"
   ]
  },
  {
   "cell_type": "code",
   "execution_count": null,
   "metadata": {},
   "outputs": [],
   "source": [
    "def clear_diretory_by_path(path_local):\n",
    "\n",
    "    # Path of the directory to be deleted\n",
    "    directory_path = path_local\n",
    "\n",
    "    # Start the object DBUtils\n",
    "    dbutils = DBUtils(spark)\n",
    "\n",
    "    # Check if the directory exists\n",
    "    if dbutils.fs.mkdirs(directory_path):\n",
    "        # Delete the files within the directory\n",
    "        dbutils.fs.rm(directory_path, recurse=True)\n",
    "        print(f\"Files on directory {directory_path} was deleted with success.\")\n",
    "    else:\n",
    "        print(f\"The directory {directory_path} not exists.\")\n",
    "    "
   ]
  }
 ],
 "metadata": {
  "language_info": {
   "name": "python"
  }
 },
 "nbformat": 4,
 "nbformat_minor": 2
}
